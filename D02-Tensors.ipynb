{
  "nbformat": 4,
  "nbformat_minor": 0,
  "metadata": {
    "kernelspec": {
      "display_name": "pytorch_env",
      "language": "python",
      "name": "pytorch_env"
    },
    "language_info": {
      "codemirror_mode": {
        "name": "ipython",
        "version": 3
      },
      "file_extension": ".py",
      "mimetype": "text/x-python",
      "name": "python",
      "nbconvert_exporter": "python",
      "pygments_lexer": "ipython3",
      "version": "3.7.3"
    },
    "colab": {
      "name": "認識 Pytorch 的張量與其基本操作_作業.ipynb",
      "provenance": []
    }
  },
  "cells": [
    {
      "cell_type": "markdown",
      "metadata": {
        "id": "eowNaBbw-YQV"
      },
      "source": [
        "### 作業目的: 更加熟習pytorch的tensor操作\n",
        "\n",
        "pytorch中有提供很多的API，讓使用者針對tensor進行各式各樣的操作，本次的作業希望讀者由pytorch的[官方網站](https://pytorch.org/docs/stable/torch.html)中選定四個針對tensor操作的API，對他的使用方法進行範例操作演練。"
      ]
    },
    {
      "cell_type": "markdown",
      "metadata": {
        "id": "iJx6xHk3-YQZ"
      },
      "source": [
        "### 選定的API 函數\n",
        "\n",
        "**請寫下選定的API functions**\n",
        "\n",
        "ex:\n",
        "* torch.from_array() / tensor.numpy()\n",
        "* torch.unsqueeze() / torch.squeeze()\n",
        "* tensor.transpose() / tensor.permute()\n",
        "* torch.reshape() / tensor.view()"
      ]
    },
    {
      "cell_type": "code",
      "metadata": {
        "id": "YQ3W9qiv-YQa"
      },
      "source": [
        "# Import torch and other required modules\n",
        "import torch\n",
        "import numpy as np"
      ],
      "execution_count": 2,
      "outputs": []
    },
    {
      "cell_type": "markdown",
      "metadata": {
        "id": "CkJrDBiF-YQb"
      },
      "source": [
        "### 範例:\n",
        "### Function 1 - torch.from_array() / tensor.numpy()"
      ]
    },
    {
      "cell_type": "code",
      "metadata": {
        "colab": {
          "base_uri": "https://localhost:8080/"
        },
        "id": "CPIsLYt6-YQb",
        "outputId": "81aea032-1532-4471-9432-07a3995b9d85"
      },
      "source": [
        "# Example 1 - 將torch tensor與numpy ndarray互相轉換\n",
        "a = np.random.rand(1,2,3,3)\n",
        "print(f'a: {type(a)}, {a.dtype}')\n",
        "b = torch.from_numpy(a)\n",
        "print(f'b: {type(b)}, {b.dtype}')\n",
        "c = torch.tensor(a)\n",
        "print(f'c: {type(c)}, {c.dtype}')\n",
        "d = c.numpy()\n",
        "print(f'd: {type(d)}, {d.dtype}')"
      ],
      "execution_count": 3,
      "outputs": [
        {
          "output_type": "stream",
          "name": "stdout",
          "text": [
            "a: <class 'numpy.ndarray'>, float64\n",
            "b: <class 'torch.Tensor'>, torch.float64\n",
            "c: <class 'torch.Tensor'>, torch.float64\n",
            "d: <class 'numpy.ndarray'>, float64\n"
          ]
        }
      ]
    },
    {
      "cell_type": "code",
      "metadata": {
        "colab": {
          "base_uri": "https://localhost:8080/"
        },
        "id": "oi6Vzs9l-YQd",
        "outputId": "bc40e2e6-fda7-4249-b0e0-cb39e3e8b08f"
      },
      "source": [
        "# Example 2 - 經過轉換後，torch tensor與numpy array依然有相近的資料型態\n",
        "a = np.random.randint(low=0, high=10, size=(2,2))\n",
        "print(f'a: {type(a)}, {a.dtype}')\n",
        "b = torch.from_numpy(a)\n",
        "print(f'b: {type(b)}, {b.dtype}')\n",
        "c = torch.tensor(a)\n",
        "print(f'c: {type(c)}, {c.dtype}')\n",
        "d = c.numpy()\n",
        "print(f'd: {type(d)}, {d.dtype}')"
      ],
      "execution_count": 4,
      "outputs": [
        {
          "output_type": "stream",
          "name": "stdout",
          "text": [
            "a: <class 'numpy.ndarray'>, int64\n",
            "b: <class 'torch.Tensor'>, torch.int64\n",
            "c: <class 'torch.Tensor'>, torch.int64\n",
            "d: <class 'numpy.ndarray'>, int64\n"
          ]
        }
      ]
    },
    {
      "cell_type": "code",
      "metadata": {
        "colab": {
          "base_uri": "https://localhost:8080/"
        },
        "id": "lfF7tdJQ-YQe",
        "outputId": "de4c54e7-35b5-4154-df26-3ec0f64fd593"
      },
      "source": [
        "# torch.all: Tests if all elements in input evaluate to True.\n",
        "t1 = torch.tensor([True,False])\n",
        "torch.all(t1)"
      ],
      "execution_count": 6,
      "outputs": [
        {
          "output_type": "execute_result",
          "data": {
            "text/plain": [
              "tensor(False)"
            ]
          },
          "metadata": {},
          "execution_count": 6
        }
      ]
    },
    {
      "cell_type": "code",
      "metadata": {
        "colab": {
          "base_uri": "https://localhost:8080/"
        },
        "id": "_j8DYRrb-YQf",
        "outputId": "b123e345-cd9f-4807-989a-cdc645636138"
      },
      "source": [
        "# torch.ceil: Returns a new tensor with the ceil of the elements.\n",
        "t2 = torch.tensor([0,0.5,0.4])\n",
        "torch.ceil(t2)"
      ],
      "execution_count": 8,
      "outputs": [
        {
          "output_type": "execute_result",
          "data": {
            "text/plain": [
              "tensor([0., 1., 1.])"
            ]
          },
          "metadata": {},
          "execution_count": 8
        }
      ]
    },
    {
      "cell_type": "code",
      "metadata": {
        "colab": {
          "base_uri": "https://localhost:8080/"
        },
        "id": "GDqVNxjD-YQg",
        "outputId": "fac08d0c-4ac8-4256-bd5a-9d705c45334a"
      },
      "source": [
        "# torch.clamp: Clamps all elements in input into the range [ min, max ]\n",
        "t3 = torch.tensor([100,30,50])\n",
        "torch.clamp(t3,min=40)"
      ],
      "execution_count": 13,
      "outputs": [
        {
          "output_type": "execute_result",
          "data": {
            "text/plain": [
              "tensor([100,  40,  50])"
            ]
          },
          "metadata": {},
          "execution_count": 13
        }
      ]
    },
    {
      "cell_type": "code",
      "metadata": {
        "colab": {
          "base_uri": "https://localhost:8080/"
        },
        "id": "zdFX0-U0-YQg",
        "outputId": "efc990c4-7d8d-456f-eda3-470e116f2e3a"
      },
      "source": [
        "# torch.det:  Computes the determinant of a square matrix\n",
        "t4 = torch.tensor([[100,30,50],[10,60,20],[100,40,50]], dtype=torch.float32)\n",
        "torch.det(t4)"
      ],
      "execution_count": 18,
      "outputs": [
        {
          "output_type": "execute_result",
          "data": {
            "text/plain": [
              "tensor(-15000.)"
            ]
          },
          "metadata": {},
          "execution_count": 18
        }
      ]
    }
  ]
}